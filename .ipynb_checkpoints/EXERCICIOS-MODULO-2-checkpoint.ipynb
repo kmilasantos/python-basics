{
 "cells": [
  {
   "cell_type": "code",
   "execution_count": 4,
   "id": "44f4eb8e",
   "metadata": {},
   "outputs": [
    {
     "name": "stdout",
     "output_type": "stream",
     "text": [
      "Quantidade de nº pares:  4\n"
     ]
    }
   ],
   "source": [
    "# Faça um programa que olhe todos os itens de uma lista e diga quantos deles são pares.\n",
    "\n",
    "lista = [14, 13, 10, 8, 18, 19, 15, 1, 3, 9]\n",
    "quant = 0\n",
    "\n",
    "for item in lista:\n",
    "    if (item%2 == 0):\n",
    "        quant += 1\n",
    "        \n",
    "print(\"Quantidade de nº pares: \", quant)"
   ]
  },
  {
   "cell_type": "code",
   "execution_count": 6,
   "id": "cfcded45",
   "metadata": {},
   "outputs": [
    {
     "name": "stdout",
     "output_type": "stream",
     "text": [
      "Digite uma palavra: Camila\n",
      "C\n",
      "a\n",
      "m\n",
      "i\n",
      "l\n",
      "a\n"
     ]
    }
   ],
   "source": [
    "# Faça um programa que peça para o usuário digitar uma palavra e imprima\n",
    "# cada letra em uma linha\n",
    "\n",
    "palavra = input(\"Digite uma palavra: \")\n",
    "pos = 0  #posição\n",
    "\n",
    "while pos < len(palavra):\n",
    "    print(palavra[pos])\n",
    "    pos += 1"
   ]
  },
  {
   "cell_type": "code",
   "execution_count": 13,
   "id": "6d602c1a",
   "metadata": {},
   "outputs": [
    {
     "name": "stdout",
     "output_type": "stream",
     "text": [
      "[4, 9, 4] <class 'list'>\n"
     ]
    }
   ],
   "source": [
    "# Faça uma função que recebe duas listas e retorna a soma item a item dessas listas.\n",
    "# Exemplo: Se a função receber as listas [1,4,3] e [3,5,1], então a função deve\n",
    "# retornar [1+3, 4+5, 3+1] = [4, 9, 4].\n",
    "\n",
    "result = []\n",
    "\n",
    "def soma_listas(lista1, lista2):\n",
    "    \n",
    "    i = 0 #indice\n",
    "    \n",
    "    while i < len(lista1):\n",
    "        soma = lista1[i] + lista2[i]\n",
    "        result.append(soma)\n",
    "        i += 1 \n",
    "        \n",
    "soma_listas([1,4,3],[3,5,1]) #chamando a função\n",
    "print(result, type(result))"
   ]
  },
  {
   "cell_type": "code",
   "execution_count": 19,
   "id": "6ce49ade",
   "metadata": {},
   "outputs": [
    {
     "name": "stdout",
     "output_type": "stream",
     "text": [
      "Janeiro - 31\n",
      "Fevereiro - 28\n",
      "Março - 31\n",
      "Abril - 30\n",
      "Maio - 31\n",
      "Junho - 30\n",
      "Julho - 31\n",
      "Agosto - 31\n",
      "Setembro - 30\n",
      "Outubro - 31\n",
      "Novembro - 30\n",
      "Dezembro - 31\n"
     ]
    }
   ],
   "source": [
    "# Crie um dicionário cujas chaves são os meses do ano e os valores são a \n",
    "# duração (em dias) de cada mês.\n",
    "\n",
    "dicionario = {'Janeiro' : 31,\n",
    "              'Fevereiro' : 28,\n",
    "              'Março' : 31,\n",
    "              'Abril' : 30,\n",
    "              'Maio' : 31,\n",
    "              'Junho' : 30,\n",
    "              'Julho' : 31,\n",
    "              'Agosto' : 31,\n",
    "              'Setembro' : 30,\n",
    "              'Outubro' : 31,\n",
    "              'Novembro' : 30,\n",
    "              'Dezembro' : 31\n",
    "             }\n",
    "\n",
    "# Imprima as chaves seguidas dos seus valores para dicionário criado no exercício anterior.\n",
    "\n",
    "for chave in dicionario.keys():\n",
    "    print(f'{chave} - {dicionario[chave]}')"
   ]
  },
  {
   "cell_type": "code",
   "execution_count": null,
   "id": "5bd32435",
   "metadata": {},
   "outputs": [],
   "source": []
  }
 ],
 "metadata": {
  "kernelspec": {
   "display_name": "Python 3 (ipykernel)",
   "language": "python",
   "name": "python3"
  },
  "language_info": {
   "codemirror_mode": {
    "name": "ipython",
    "version": 3
   },
   "file_extension": ".py",
   "mimetype": "text/x-python",
   "name": "python",
   "nbconvert_exporter": "python",
   "pygments_lexer": "ipython3",
   "version": "3.10.7"
  }
 },
 "nbformat": 4,
 "nbformat_minor": 5
}
