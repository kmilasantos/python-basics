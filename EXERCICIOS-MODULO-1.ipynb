{
 "cells": [
  {
   "cell_type": "code",
   "execution_count": 1,
   "id": "8c3bfeec",
   "metadata": {},
   "outputs": [
    {
     "name": "stdout",
     "output_type": "stream",
     "text": [
      "Digite um valor monetário: R$355.80\n",
      "O novo valor é R$ 302.43\n"
     ]
    }
   ],
   "source": [
    "# Faça um programa que peça um valor monetário e diminua-o em 15%. \n",
    "# Seu programa deve imprimir a mensagem “O novo valor é [valor]”.\n",
    "\n",
    "valor_monetario = input(\"Digite um valor monetário: R$\")\n",
    "valor_monetario = float(valor_monetario)\n",
    "\n",
    "desconto = valor_monetario * 0.15\n",
    "\n",
    "print(\"O novo valor é R$\",valor_monetario - desconto)"
   ]
  },
  {
   "cell_type": "code",
   "execution_count": 14,
   "id": "72344366",
   "metadata": {},
   "outputs": [
    {
     "name": "stdout",
     "output_type": "stream",
     "text": [
      "Idade: 25\n",
      "Salario: R$2250\n",
      "Sexo: Outro\n"
     ]
    }
   ],
   "source": [
    "# Faça um programa que leia a validade das informações:\n",
    "#\n",
    "#   a. Idade: entre 0 e 150;\n",
    "#   b. Salário: maior que 0;\n",
    "#   c. Sexo: M, F ou Outro;\n",
    "#\n",
    "# O programa deve imprimir uma mensagem de erro para cada informação inválida.\n",
    "\n",
    "idade = input(\"Idade: \")\n",
    "idade =  int(idade)\n",
    "if (idade < 0 or idade > 150):\n",
    "    print(\"Erro! a idade deve estar entre 0 e 150\")\n",
    "    \n",
    "salario =  input(\"Salario: R$\")\n",
    "salario = float(salario)\n",
    "if (salario < 0):\n",
    "    print(\"Erro! O salário deve ser maior que 0 (zero).\")\n",
    "    \n",
    "sexo = input(\"Sexo: \")\n",
    "if (sexo != 'M' and sexo != \"F\" and sexo != 'Outro'):\n",
    "    print(\"Erro! O sexo deve ser M, F, ou Outro\")\n",
    "    "
   ]
  },
  {
   "cell_type": "code",
   "execution_count": 16,
   "id": "020d1057",
   "metadata": {},
   "outputs": [
    {
     "name": "stdout",
     "output_type": "stream",
     "text": [
      "Mora perto da vítima? sim\n",
      "Já trabalhou com a vítima? não\n",
      "Telefonou para a vítima? sim\n",
      "Esteve no local do crime? não\n",
      "Devia para a vítima? não\n",
      "Suspeito\n"
     ]
    }
   ],
   "source": [
    "# Vamos fazer um programa para verificar quem é o assassino de um crime. \n",
    "# Para descobrir o assassino, a polícia faz um pequeno questionário com 5 \n",
    "# perguntas onde a resposta só pode ser sim ou não:\n",
    "#\n",
    "#   a. Mora perto da vítima?\n",
    "#   b. Já trabalhou com a vítima?\n",
    "#   c. Telefonou para a vítima?\n",
    "#   d. Esteve no local do crime?\n",
    "#   e. Devia para a vítima?\n",
    "#\n",
    "# Cada resposta sim dá um ponto para o suspeito. A polícia considera que os \n",
    "# suspeitos com 5 pontos são os assassinos, com 4 a 3 pontos são cúmplices e \n",
    "# 2 pontos são apenas suspeitos, necessitando outras investigações. Valores \n",
    "# iguais ou abaixo de 1 são liberados.\n",
    "\n",
    "\n",
    "a = input(\"Mora perto da vítima? \")\n",
    "b = input(\"Já trabalhou com a vítima? \")\n",
    "c = input(\"Telefonou para a vítima? \")\n",
    "d = input(\"Esteve no local do crime? \")\n",
    "e = input(\"Devia para a vítima? \")\n",
    "\n",
    "#pontuação\n",
    "pontos = 0\n",
    "if(a == 'sim'):\n",
    "    pontos += 1\n",
    "\n",
    "if(b == 'sim'): \n",
    "    pontos += 1\n",
    "    \n",
    "if(c == 'sim'): \n",
    "    pontos += 1\n",
    "    \n",
    "if(d == 'sim'): \n",
    "    pontos += 1\n",
    "    \n",
    "if(e == 'sim'): \n",
    "    pontos += 1\n",
    "\n",
    "#decisão \n",
    "if(pontos == 5):\n",
    "    print(\"Assassino\")\n",
    "    \n",
    "elif(pontos == 4 or pontos == 3):\n",
    "    print(\"Cúmplice\") \n",
    "    \n",
    "elif(pontos == 2):\n",
    "    print(\"Suspeito\")\n",
    "    \n",
    "else: \n",
    "    print(\"Liberado\")"
   ]
  },
  {
   "cell_type": "code",
   "execution_count": 14,
   "id": "25790aee",
   "metadata": {},
   "outputs": [
    {
     "name": "stdout",
     "output_type": "stream",
     "text": [
      "9 * 1 = 9\n",
      "9 * 2 = 18\n",
      "9 * 3 = 27\n",
      "9 * 4 = 36\n",
      "9 * 5 = 45\n",
      "9 * 6 = 54\n",
      "9 * 7 = 63\n",
      "9 * 8 = 72\n",
      "9 * 9 = 81\n",
      "9 * 10 = 90\n"
     ]
    }
   ],
   "source": [
    "# Faça um programa que imprima a tabuada do 9 (de 9*1 a 9*10) usando loops\n",
    "\n",
    "i = 1\n",
    "\n",
    "while(i <= 10):\n",
    "    \n",
    "    valor = 9 * i\n",
    "    print(\"9 * {} = {}\".format(i, valor))\n",
    "    i = i+1"
   ]
  },
  {
   "cell_type": "code",
   "execution_count": null,
   "id": "124c699b",
   "metadata": {},
   "outputs": [],
   "source": []
  }
 ],
 "metadata": {
  "kernelspec": {
   "display_name": "Python 3 (ipykernel)",
   "language": "python",
   "name": "python3"
  },
  "language_info": {
   "codemirror_mode": {
    "name": "ipython",
    "version": 3
   },
   "file_extension": ".py",
   "mimetype": "text/x-python",
   "name": "python",
   "nbconvert_exporter": "python",
   "pygments_lexer": "ipython3",
   "version": "3.10.7"
  }
 },
 "nbformat": 4,
 "nbformat_minor": 5
}
