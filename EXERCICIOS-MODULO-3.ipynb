{
 "cells": [
  {
   "cell_type": "code",
   "execution_count": 19,
   "id": "e0e92d85",
   "metadata": {},
   "outputs": [
    {
     "name": "stdout",
     "output_type": "stream",
     "text": [
      "['RA', 'Nome', 'Frequencia', 'Prova_1', 'Prova_2', 'Prova_3', 'Prova_4']\n",
      "['110201', 'Antonio Carlos', '20', '6.5', '8.5', '7', '6']\n",
      "['110212', 'Ana Beatriz', '20', '7', '7', '7', '8']\n",
      "['110218', 'Carlos Vernes', '17', '7', '7', '7', '7']\n",
      "['110307', 'Francisco Cunha', '20', '9', '8.5', '8.5', '10']\n",
      "['110275', 'Sandra Rosa', '15', '6.5', '7.5', '7', '7']\n",
      "['110281', 'Juliana Arruda', '18', '7.5', '7', '7.5', '8']\n",
      "['110301', 'Joao Galo', '20', '5', '6.5', '7', '5']\n",
      "['110263', 'JosÃ© Valente', '20', '10', '10', '10', '10']\n",
      "['110271', 'Maria Ferreira', '19', '9.5', '8', '7', '10']\n",
      "['110236', 'Adriana Tavares', '20', '8', '8', '8', '8']\n"
     ]
    }
   ],
   "source": [
    "# Neste exercício você deve criar um programa que abra o arquivo \n",
    "# \"alunos.csv\" e imprima o conteúdo do arquivo linha a linha\n",
    "\n",
    "import csv\n",
    "\n",
    "with open('alunos.csv', newline='') as file:\n",
    "    readFile = csv.reader(file, delimiter=',')\n",
    "    for linha in readFile:\n",
    "        print(linha)\n"
   ]
  },
  {
   "cell_type": "code",
   "execution_count": 20,
   "id": "7e6f1496",
   "metadata": {},
   "outputs": [
    {
     "data": {
      "text/plain": [
       "'alunos_copia.csv'"
      ]
     },
     "execution_count": 20,
     "metadata": {},
     "output_type": "execute_result"
    }
   ],
   "source": [
    "# Para o segundo exercício, você deve criar um programa que realize uma\n",
    "# cópia do arquivo \"alunos.csv\". Essa cópia deve ser um arquivo chamado\n",
    "# \"alunos_copia.csv\".\n",
    "\n",
    "import shutil #usando biblioteca padrão do python\n",
    "\n",
    "shutil.copy('alunos.csv','alunos_copia.csv')"
   ]
  },
  {
   "cell_type": "code",
   "execution_count": 76,
   "id": "9d0b3f65",
   "metadata": {},
   "outputs": [
    {
     "ename": "TypeError",
     "evalue": "'_csv.writer' object is not subscriptable",
     "output_type": "error",
     "traceback": [
      "\u001b[1;31m---------------------------------------------------------------------------\u001b[0m",
      "\u001b[1;31mTypeError\u001b[0m                                 Traceback (most recent call last)",
      "Cell \u001b[1;32mIn [76], line 12\u001b[0m\n\u001b[0;32m      9\u001b[0m writerFile \u001b[38;5;241m=\u001b[39m csv\u001b[38;5;241m.\u001b[39mwriter(fileMedia)\n\u001b[0;32m     10\u001b[0m writerFile\u001b[38;5;241m.\u001b[39mwriterows(fileRead)\n\u001b[1;32m---> 12\u001b[0m \u001b[38;5;28mprint\u001b[39m(\u001b[43mwriterFile\u001b[49m\u001b[43m[\u001b[49m\u001b[38;5;241;43m1\u001b[39;49m\u001b[43m]\u001b[49m)\n",
      "\u001b[1;31mTypeError\u001b[0m: '_csv.writer' object is not subscriptable"
     ]
    }
   ],
   "source": [
    "# você deve criar um novo arquivo chamado \"alunos_media.csv\". Esse novo arquivo é uma \n",
    "# cópia de \"alunos.csv\" porém com uma coluna a mais chamada \"Média\" que vai abrigar os \n",
    "# valores das médias das provas de cada aluno da lista.\n",
    "\n",
    "file = open('alunos.csv', 'r', encoding='utf-8') \n",
    "fileRead = csv.reader(file)\n",
    "\n",
    "with open('alunos_media.csv','w', encoding='utf-8', newline='') as fileMedia:\n",
    "    writerFile = csv.writer(fileMedia)\n",
    "    writerFile.writerows(fileRead)\n",
    "\n",
    "    print(writerFile[1])"
   ]
  },
  {
   "cell_type": "code",
   "execution_count": null,
   "id": "dbf7485f",
   "metadata": {},
   "outputs": [],
   "source": []
  }
 ],
 "metadata": {
  "kernelspec": {
   "display_name": "Python 3 (ipykernel)",
   "language": "python",
   "name": "python3"
  },
  "language_info": {
   "codemirror_mode": {
    "name": "ipython",
    "version": 3
   },
   "file_extension": ".py",
   "mimetype": "text/x-python",
   "name": "python",
   "nbconvert_exporter": "python",
   "pygments_lexer": "ipython3",
   "version": "3.10.7"
  }
 },
 "nbformat": 4,
 "nbformat_minor": 5
}
